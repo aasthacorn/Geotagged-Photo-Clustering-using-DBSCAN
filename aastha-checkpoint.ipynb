{
 "cells": [
  {
   "cell_type": "code",
   "execution_count": null,
   "id": "8e3d7d06",
   "metadata": {},
   "outputs": [
    {
     "ename": "",
     "evalue": "",
     "output_type": "error",
     "traceback": [
      "\u001b[1;31mRunning cells with 'Python 3.12.3' requires the ipykernel package.\n",
      "\u001b[1;31m<a href='command:jupyter.createPythonEnvAndSelectController'>Create a Python Environment</a> with the required packages."
     ]
    }
   ],
   "source": [
    "pip install exifread pandas numpy scikit-learn folium"
   ]
  },
  {
   "cell_type": "code",
   "execution_count": null,
   "id": "187c8b4d",
   "metadata": {},
   "outputs": [],
   "source": [
    "import os\n",
    "import exifread\n",
    "import pandas as pd\n",
    "import numpy as np\n",
    "from sklearn.cluster import DBSCAN\n",
    "from sklearn.preprocessing import StandardScaler\n",
    "import folium\n",
    "\n",
    "# ---------------------\n",
    "# Helper: Convert GPS to decimal\n",
    "# ---------------------\n",
    "def _convert_to_degrees(value):\n",
    "    d = float(value[0].num) / float(value[0].den)\n",
    "    m = float(value[1].num) / float(value[1].den)\n",
    "    s = float(value[2].num) / float(value[2].den)\n",
    "    return d + (m / 60.0) + (s / 3600.0)\n",
    "\n",
    "# ---------------------\n",
    "# Extract GPS from image\n",
    "# ---------------------\n",
    "def get_lat_lon(img_path):\n",
    "    with open(img_path, 'rb') as f:\n",
    "        tags = exifread.process_file(f, stop_tag='GPS GPSLongitude')\n",
    "        \n",
    "        if 'GPS GPSLatitude' in tags and 'GPS GPSLongitude' in tags:\n",
    "            lat = _convert_to_degrees(tags['GPS GPSLatitude'].values)\n",
    "            lon = _convert_to_degrees(tags['GPS GPSLongitude'].values)\n",
    "\n",
    "            # Check direction (N/S, E/W)\n",
    "            lat_ref = tags['GPS GPSLatitudeRef'].printable\n",
    "            lon_ref = tags['GPS GPSLongitudeRef'].printable\n",
    "\n",
    "            if lat_ref != 'N':\n",
    "                lat = -lat\n",
    "            if lon_ref != 'E':\n",
    "                lon = -lon\n",
    "            return lat, lon\n",
    "    return None, None\n",
    "\n",
    "# ---------------------\n",
    "# Process all images\n",
    "# ---------------------\n",
    "image_folder = 'archive'\n",
    "data = []\n",
    "\n",
    "for filename in os.listdir(image_folder):\n",
    "    if filename.lower().endswith('.jpg') or filename.lower().endswith('.jpeg'):\n",
    "        path = os.path.join(image_folder, filename)\n",
    "        lat, lon = get_lat_lon(path)\n",
    "        if lat and lon:\n",
    "            data.append({'filename': filename, 'Latitude': lat, 'Longitude': lon})\n",
    "\n",
    "# Convert to DataFrame\n",
    "df = pd.DataFrame(data)\n",
    "\n",
    "if df.empty:\n",
    "    print(\"No valid geotagged images found.\")\n",
    "    exit()\n",
    "\n",
    "# ---------------------\n",
    "# DBSCAN Clustering\n",
    "# ---------------------\n",
    "coords = df[['Latitude', 'Longitude']].values\n",
    "scaler = StandardScaler()\n",
    "coords_scaled = scaler.fit_transform(coords)\n",
    "\n",
    "db = DBSCAN(eps=0.3, min_samples=3).fit(coords_scaled)\n",
    "df['Cluster'] = db.labels_\n",
    "\n",
    "# ---------------------\n",
    "# Save and Show Results\n",
    "# ---------------------\n",
    "print(df.head())\n",
    "df.to_csv('clustered_locations.csv', index=False)\n",
    "\n",
    "# ---------------------\n",
    "# Visualize with Folium\n",
    "# ---------------------\n",
    "m = folium.Map(location=[df['Latitude'].mean(), df['Longitude'].mean()], zoom_start=13)\n",
    "\n",
    "colors = ['blue', 'green', 'purple', 'orange', 'darkred', 'cadetblue']\n",
    "for _, row in df.iterrows():\n",
    "    cluster_color = 'red' if row['Cluster'] == -1 else colors[row['Cluster'] % len(colors)]\n",
    "    folium.CircleMarker(\n",
    "        location=[row['Latitude'], row['Longitude']],\n",
    "        radius=5,\n",
    "        color=cluster_color,\n",
    "        fill=True,\n",
    "        fill_opacity=0.6,\n",
    "        tooltip=f\"Image: {row['filename']} | Cluster: {row['Cluster']}\"\n",
    "    ).add_to(m)\n",
    "\n",
    "m.save('geotagged_clusters_map.html')\n",
    "print(\"Map saved as 'geotagged_clusters_map.html'\")"
   ]
  },
  {
   "cell_type": "code",
   "execution_count": null,
   "id": "42721e4f",
   "metadata": {},
   "outputs": [],
   "source": [
    "# Print all clustered results\n",
    "print(\"\\n📌 Clustering Results:\")\n",
    "for idx, row in df.iterrows():\n",
    "    print(f\"Image: {row['filename']}, Latitude: {row['Latitude']:.6f}, Longitude: {row['Longitude']:.6f}, Cluster: {row['Cluster']}\")\n",
    "    "
   ]
  },
  {
   "cell_type": "code",
   "execution_count": null,
   "id": "e6a617cd-5ebe-4786-84ed-03e64c839d59",
   "metadata": {},
   "outputs": [],
   "source": [
    "import matplotlib.pyplot as plt\n",
    "import seaborn as sns\n",
    "# 📊 Matplotlib-based scatter plot\n",
    "plt.figure(figsize=(10, 6))\n",
    "palette = sns.color_palette('tab10', len(set(df['Cluster'])))\n",
    "sns.scatterplot(\n",
    "    data=df, x='Longitude', y='Latitude', hue='Cluster',\n",
    "    palette=palette, s=80, edgecolor='k'\n",
    ")\n",
    "plt.title('DBSCAN Clustering of Geotagged Images')\n",
    "plt.xlabel('Longitude')\n",
    "plt.ylabel('Latitude')\n",
    "plt.legend(title='Cluster')\n",
    "plt.grid(True)\n",
    "plt.tight_layout()\n",
    "plt.show()"
   ]
  },
  {
   "cell_type": "code",
   "execution_count": null,
   "id": "424dade1-8b83-4b70-8907-ac9161c36088",
   "metadata": {},
   "outputs": [],
   "source": [
    "import matplotlib.pyplot as plt\n",
    "import seaborn as sns\n",
    "import pandas as pd\n",
    "\n",
    "# Load CSV\n",
    "df = pd.read_csv(\"clustered_locations.csv\")\n",
    "\n",
    "# Count images in each cluster\n",
    "cluster_counts = df['Cluster'].value_counts().sort_index()\n",
    "\n",
    "# Prepare data for plotting\n",
    "plot_df = pd.DataFrame({\n",
    "    'Cluster': cluster_counts.index.astype(str),\n",
    "    'Count': cluster_counts.values\n",
    "})\n",
    "\n",
    "# Bar plot with x as hue to avoid warning\n",
    "plt.figure(figsize=(8, 5))\n",
    "sns.barplot(data=plot_df, x='Cluster', y='Count', hue='Cluster', palette='muted', legend=False)\n",
    "plt.title('Number of Images per Cluster')\n",
    "plt.xlabel('Cluster Label')\n",
    "plt.ylabel('Number of Images')\n",
    "plt.tight_layout()\n",
    "plt.show()\n"
   ]
  },
  {
   "cell_type": "code",
   "execution_count": null,
   "id": "ac763897-40d2-4d4c-89a4-a300470c8fd3",
   "metadata": {},
   "outputs": [],
   "source": [
    "pip install ydata-profiling"
   ]
  },
  {
   "cell_type": "code",
   "execution_count": null,
   "id": "eb4861be-78e0-4b92-b687-8ff89d9b373a",
   "metadata": {},
   "outputs": [],
   "source": [
    "from ydata_profiling import ProfileReport\n",
    "\n",
    "# Generate and save the EDA report\n",
    "profile = ProfileReport(df, title=\"EDA Report - Clustered Image Data\", explorative=True)\n",
    "profile.to_file(\"eda_report.html\")"
   ]
  },
  {
   "cell_type": "code",
   "execution_count": null,
   "id": "8ece5bda-f5e9-4c48-9425-92f5a237ce1a",
   "metadata": {},
   "outputs": [],
   "source": [
    "# Pie chart\n",
    "plt.figure(figsize=(7, 7))\n",
    "plt.pie(cluster_counts, labels=cluster_counts.index, autopct='%1.1f%%', startangle=140, colors=sns.color_palette('pastel'))\n",
    "plt.title('Distribution of Images by Cluster')\n",
    "plt.axis('equal')  # Equal aspect ratio ensures pie is a circle\n",
    "plt.show()\n"
   ]
  },
  {
   "cell_type": "code",
   "execution_count": null,
   "id": "7cc7d339-4a7e-4ba9-90ed-3eb6ea5fae11",
   "metadata": {},
   "outputs": [],
   "source": [
    "plt.figure(figsize=(8, 6))\n",
    "sns.scatterplot(data=df, x='Longitude', y='Latitude', hue='Cluster', palette='tab10')\n",
    "plt.title('Image Locations Colored by Cluster')\n",
    "plt.xlabel('Longitude')\n",
    "plt.ylabel('Latitude')\n",
    "plt.legend(title='Cluster')\n",
    "plt.show()"
   ]
  },
  {
   "cell_type": "code",
   "execution_count": null,
   "id": "0d57a29b-ca80-4e28-8c27-cf5b0b1cd2a4",
   "metadata": {},
   "outputs": [],
   "source": [
    "plt.figure(figsize=(10, 5))\n",
    "sns.boxplot(data=df, x='Cluster', y='Latitude')\n",
    "plt.title('Latitude Distribution per Cluster')\n",
    "plt.show()"
   ]
  },
  {
   "cell_type": "code",
   "execution_count": null,
   "id": "2b3dfa27-5101-46d8-8ccf-6b39123d536f",
   "metadata": {},
   "outputs": [],
   "source": [
    "corr = df[['Latitude', 'Longitude', 'Cluster']].corr()\n",
    "sns.heatmap(corr, annot=True, cmap='coolwarm')\n",
    "plt.title('Correlation Heatmap')\n",
    "plt.show()\n"
   ]
  },
  {
   "cell_type": "code",
   "execution_count": null,
   "id": "bf264e2f-8e0a-4b90-bc20-482dd1256ce6",
   "metadata": {},
   "outputs": [],
   "source": [
    "from mpl_toolkits.mplot3d import Axes3D\n",
    "\n",
    "fig = plt.figure(figsize=(20,8))\n",
    "ax = fig.add_subplot(111, projection='3d')\n",
    "sc = ax.scatter(df['Longitude'], df['Latitude'], df['Cluster'], c=df['Cluster'], cmap='tab10')\n",
    "ax.set_xlabel('Longitude')\n",
    "ax.set_ylabel('Latitude')\n",
    "ax.set_zlabel('Cluster')\n",
    "plt.title('3D Scatter Plot of Locations and Clusters')\n",
    "plt.colorbar(sc)\n",
    "plt.show()\n"
   ]
  }
 ],
 "metadata": {
  "kernelspec": {
   "display_name": "Python 3",
   "language": "python",
   "name": "python3"
  },
  "language_info": {
   "codemirror_mode": {
    "name": "ipython",
    "version": 3
   },
   "file_extension": ".py",
   "mimetype": "text/x-python",
   "name": "python",
   "nbconvert_exporter": "python",
   "pygments_lexer": "ipython3",
   "version": "3.12.3"
  }
 },
 "nbformat": 4,
 "nbformat_minor": 5
}
